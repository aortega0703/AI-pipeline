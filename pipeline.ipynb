{
 "cells": [
  {
   "cell_type": "markdown",
   "metadata": {},
   "source": [
    "### Imports"
   ]
  },
  {
   "cell_type": "code",
   "execution_count": null,
   "metadata": {},
   "outputs": [],
   "source": [
    "import scipy as sci\n",
    "from scipy import stats\n",
    "from scipy.special import expit\n",
    "import pandas as pd\n",
    "import numpy as np\n",
    "import matplotlib as mpl\n",
    "import matplotlib.pyplot as plt\n",
    "%matplotlib widget\n"
   ]
  },
  {
   "cell_type": "markdown",
   "metadata": {},
   "source": [
    "### Read Data"
   ]
  },
  {
   "cell_type": "code",
   "execution_count": null,
   "metadata": {},
   "outputs": [],
   "source": [
    "file = 'examen.csv'\n",
    "data = pd.read_csv(file, index_col=None, header=None).reset_index(drop=True)\n",
    "N_S = len(data.index)\n",
    "indices = data.index"
   ]
  },
  {
   "cell_type": "markdown",
   "metadata": {},
   "source": [
    "### Preprocess"
   ]
  },
  {
   "cell_type": "code",
   "execution_count": null,
   "metadata": {},
   "outputs": [],
   "source": [
    "def set_axis_labels(ax, x, y, z=None):\n",
    "    ax.set_xlabel(x)\n",
    "    ax.set_ylabel(y)\n",
    "    if z != None:\n",
    "        ax.set_zlabel(z)\n",
    "    \n",
    "X_S = data.iloc[:, :3]\n",
    "\n",
    "def normalize(points):\n",
    "    min = points.min(axis=0)\n",
    "    scale = points.max(axis=0) - min\n",
    "    def denormalize(points):\n",
    "        return points * scale + min\n",
    "    return (points - min) / scale, denormalize\n",
    "\n",
    "X_S, denormalize = normalize(X_S)\n",
    "X_S, Y_S = X_S.iloc[:, :2], X_S.iloc[:, 2]\n",
    "\n",
    "def label_to_int(data):\n",
    "    labels = data.unique()\n",
    "    label_map = dict(zip(labels, range(len(labels))))\n",
    "    return data.apply(lambda x: label_map[x]), labels\n",
    "\n",
    "#Y_S, labels = label_to_int(Y_S)"
   ]
  },
  {
   "cell_type": "markdown",
   "metadata": {},
   "source": [
    "### Learner measures"
   ]
  },
  {
   "cell_type": "code",
   "execution_count": null,
   "metadata": {},
   "outputs": [],
   "source": [
    "# lower bound to sample size\n",
    "from turtle import title\n",
    "\n",
    "\n",
    "def PAC_eta(H_norm, delta, epsilon):\n",
    "    return (np.log(H_norm) - np.log(delta))/epsilon\n",
    "\n",
    "# lower bound to generalization error\n",
    "def PAC_delta(H_norm, epsilon, eta):\n",
    "    return H_norm/np.exp(eta*epsilon)\n",
    "\n",
    "H = 1\n",
    "plt.figure()\n",
    "X = Y = np.linspace(0.1, 1, 10)\n",
    "X, Y = np.meshgrid(X, Y)\n",
    "ax = plt.axes(projection='3d', title=f'PAC (H={H})')\n",
    "ax.plot_surface(X, Y, PAC_eta(H, X, Y))\n",
    "set_axis_labels(ax, '$\\\\delta$', '$\\\\varepsilon$', '$\\\\eta$')\n",
    "#print(X,Y)\n"
   ]
  },
  {
   "cell_type": "markdown",
   "metadata": {},
   "source": [
    "# Sampling"
   ]
  },
  {
   "cell_type": "markdown",
   "metadata": {},
   "source": [
    "##### Distributions"
   ]
  },
  {
   "cell_type": "code",
   "execution_count": null,
   "metadata": {},
   "outputs": [],
   "source": [
    "pdf_names = [\"Uniform\", \"Triangular\", \"Normal\"]\n",
    "\n",
    "\n",
    "def pdf(pdf, x, N):\n",
    "    return pd.Series(dict(zip(pdf_names, [\n",
    "        sci.stats.uniform.pdf(x, 0, N),\n",
    "        sci.stats.triang.pdf(x, 0.5, -1, N+1),\n",
    "        sci.stats.norm.pdf(x, N//2, N//6)])\n",
    "        )[pdf], index=x)\n",
    "\n",
    "\n",
    "plt.figure()\n",
    "ax = plt.axes(title=\"Probability Density Functions\")\n",
    "for name in pdf_names:\n",
    "    F = pdf(name, indices, N_S)\n",
    "    ax.plot(indices, F, label=name)\n",
    "plt.legend()\n",
    "set_axis_labels(ax, \"Sample Index\", \"$f(x)$\")\n",
    "\n",
    "plt.figure()\n",
    "ax = plt.axes(title=\"Information content\")\n",
    "for name in pdf_names:\n",
    "    F = pdf(name, indices, N_S)\n",
    "    I = np.log2(1/F)\n",
    "    H = np.sum(-F*np.log2(F))\n",
    "    plt.plot(indices, I, label=f\"{name}: {H:.2f}\")\n",
    "plt.legend(title=\"Entropy $H(X)$\")\n",
    "set_axis_labels(ax, \"Sample Index\", \"$I(x)$\")\n"
   ]
  },
  {
   "cell_type": "markdown",
   "metadata": {},
   "source": [
    "##### Comparison of samples"
   ]
  },
  {
   "cell_type": "code",
   "execution_count": null,
   "metadata": {},
   "outputs": [],
   "source": [
    "sets = {\"Train\": int(0.6*N_S),\n",
    "        \"Test\": int(0.2*N_S),\n",
    "        \"Validation\": int(0.2*N_S)}\n",
    "\n",
    "sets_uniform = sets.copy()\n",
    "\n",
    "for name in pdf_names:\n",
    "    weights = pdf(name, indices, N_S)\n",
    "    sets_curr = sets.copy()\n",
    "    plt.figure()\n",
    "    ax = plt.axes(title=f\"{name} Sampling\")\n",
    "    \n",
    "    for k, v in sets_curr.items():\n",
    "        X_sample = X_S.iloc[weights.index, :2].sample(n=v, weights=weights)\n",
    "        if name == \"Uniform\":\n",
    "            sets_uniform[k] = (X_sample, Y_S.iloc[X_sample.index])\n",
    "        weights = weights.drop(X_sample.index)\n",
    "        sets_curr[k] = X_sample.index\n",
    "\n",
    "    ax.hist(sets_curr.values(), stacked=True, bins=15,\n",
    "        label=[f\"{k}: {len(v)}\" for k, v in sets_curr.items()]) \n",
    "    set_axis_labels(ax, 'Index', 'Sample Count')   \n",
    "    plt.legend(title=\"Samples per set\")"
   ]
  },
  {
   "cell_type": "markdown",
   "metadata": {},
   "source": [
    "# Supervised Learning"
   ]
  },
  {
   "cell_type": "markdown",
   "metadata": {},
   "source": [
    "### Neural Network"
   ]
  },
  {
   "cell_type": "markdown",
   "metadata": {},
   "source": [
    "##### Definition"
   ]
  },
  {
   "cell_type": "code",
   "execution_count": null,
   "metadata": {},
   "outputs": [],
   "source": [
    "def to_vector(Y, cats):\n",
    "    id = np.identity(cats)\n",
    "    return np.array([id[c, :] for c in Y])\n",
    "    \n",
    "def update(X, Yd, W, B, phi, dphi):\n",
    "    p = X.shape[1]\n",
    "\n",
    "    # feedforward\n",
    "    V = [None] * (k+1)\n",
    "    Y = [None] * (k+1)\n",
    "    Y[0] = X\n",
    "    for l in range(1, k+1):\n",
    "        V[l] = W[l] @ Y[l-1]\n",
    "        if B != None:\n",
    "            V[l] += B[l]\n",
    "        Y[l] = phi(V[l])\n",
    "    #softmax = lambda x: np.exp(x) / sum(np.exp(x))\n",
    "    #dsoftmax = lambda x: np.diag(softmax(x).flatten()) @ (np.eye(x.shape[0]) - softmax(x))\n",
    "\n",
    "    # backpropagation\n",
    "    dE = Y[k] - Yd\n",
    "    E = ((Y[k] - Yd)**2)/2\n",
    "\n",
    "    delta = [None] * (k+1)\n",
    "    delta[k] = dE * dphi(V[k])\n",
    "    for l in reversed(range(1, k)):\n",
    "        delta[l] = (W[l+1].T @ delta[l+1]) * dphi(V[l])\n",
    "\n",
    "    # update\n",
    "    for l in range(1, k+1):\n",
    "        W[l] -= (delta[l] @ Y[l-1].T) / p\n",
    "        if B != None:\n",
    "            B[l] -= (delta[l] @ np.ones((p, 1))) / p\n",
    "    return W, B, delta, E\n"
   ]
  },
  {
   "cell_type": "markdown",
   "metadata": {},
   "source": [
    "##### Run"
   ]
  },
  {
   "cell_type": "code",
   "execution_count": null,
   "metadata": {},
   "outputs": [],
   "source": [
    "X, Yd = sets_uniform[\"Train\"]\n",
    "X, Yd = X.to_numpy().T, Yd.to_numpy()[:, None].T\n",
    "X_test, Y_test = sets_uniform[\"Test\"]\n",
    "X_test, Y_test = X_test.to_numpy().T, Y_test.to_numpy().T\n",
    "\n",
    "neurons = [X.shape[0], 2, 2, Yd.shape[0]]\n",
    "k = len(neurons) - 1\n",
    "epochs = 1000\n",
    "\n",
    "np.random.seed(69)\n",
    "W = [None] * (k+1)\n",
    "B = [None] * (k+1)\n",
    "for l in range(1, k+1):\n",
    "    W[l] = np.random.randn(neurons[l], neurons[l-1])\n",
    "    B[l] = np.random.randn(neurons[l])[:, None]\n",
    "phi = expit\n",
    "def dphi(x): return phi(x) * (1 - phi(x))\n",
    "\n",
    "deltas = []\n",
    "errors = {\"Train\": [],\n",
    "          \"Test\": [],\n",
    "          \"Validation\": []}\n",
    "ys = []\n",
    "for i in range(epochs):\n",
    "    W, B, delta, E = update(X, Yd, W, B, phi, dphi)\n",
    "    deltas.append([np.mean(np.sum(np.abs(delta[l]), axis=0))\n",
    "        for l in range(1, k+1)])\n",
    "    errors[\"Train\"].append(np.sum(E, axis=1)/X.shape[1])\n",
    "    Y_last = X_test\n",
    "    for l in range(1, k+1):\n",
    "        V_last = W[l] @ Y_last + B[l]\n",
    "        Y_last = phi(V_last)\n",
    "    E = ((Y_last - Y_test)**2)/2\n",
    "    errors[\"Test\"].append(np.sum(E, axis=1)/Y_last.shape[1])\n",
    "    ys.append([Y_last])\n",
    "\n",
    "deltas = np.array(deltas).T"
   ]
  },
  {
   "cell_type": "markdown",
   "metadata": {},
   "source": [
    "##### Graphs"
   ]
  },
  {
   "cell_type": "code",
   "execution_count": null,
   "metadata": {},
   "outputs": [],
   "source": [
    "from turtle import position\n",
    "\n",
    "\n",
    "plt.figure()\n",
    "ax = plt.axes(title=f\"Gradients per epoch\")\n",
    "ax.plot(range(epochs), deltas.T, label=range(deltas.shape[0]))\n",
    "ax.legend(title=\"Layer\")\n",
    "set_axis_labels(ax, \"Epoch\", \n",
    "    \"Average Length of Gradients $\\\\overline{\\\\Vert\\\\delta_l\\\\Vert_1}$\")\n",
    "\n",
    "plt.figure()\n",
    "ax = plt.axes(title=f\"Error per epoch\")\n",
    "ax.plot(range(epochs), errors[\"Train\"], label=\"Train\")\n",
    "ax.plot(range(epochs), errors[\"Test\"], label=\"Test\")\n",
    "plt.legend(title=\"Set\")\n",
    "set_axis_labels(ax, \"Epoch\",\n",
    "    \"Average Error $\\\\frac{\\\\overline{\\\\Vert Y_d - Y_k\\\\Vert_2}}{2}$\")\n",
    "\n",
    "plt.figure()\n",
    "plot_N = 11\n",
    "cmap = plt.get_cmap(\"inferno_r\", plot_N)\n",
    "ticks = np.linspace(0, len(ys)-1, plot_N, dtype=int)\n",
    "ax = plt.axes(projection=\"3d\", title=f\"Output comparison\")\n",
    "ax.scatter(X_test[0, :], X_test[1, :], Y_test, label=\"Reference\", color = 'darkred')\n",
    "for c, k in enumerate(ticks):\n",
    "    ax.scatter(X_test[0, :], X_test[1, :], ys[k][0], color = cmap(c))\n",
    "\n",
    "plt.legend()\n",
    "norm = mpl.colors.Normalize(vmin=0, vmax=len(ys))\n",
    "sm = plt.cm.ScalarMappable(cmap=cmap, norm=norm)\n",
    "sm.set_array([])\n",
    "\n",
    "cbar = plt.colorbar(sm, ticks=ticks+1, ax=ax)\n",
    "cbar.ax.set_yticklabels(ticks+1)\n",
    "cbar.set_label(\"Epoch\")\n",
    "set_axis_labels(ax, \"$X_0$\", \"$X_1$\", \"$Y_0$\")\n"
   ]
  }
 ],
 "metadata": {
  "kernelspec": {
   "display_name": "Python 3.9.2 64-bit",
   "language": "python",
   "name": "python3"
  },
  "language_info": {
   "codemirror_mode": {
    "name": "ipython",
    "version": 3
   },
   "file_extension": ".py",
   "mimetype": "text/x-python",
   "name": "python",
   "nbconvert_exporter": "python",
   "pygments_lexer": "ipython3",
   "version": "3.9.2"
  },
  "orig_nbformat": 4,
  "vscode": {
   "interpreter": {
    "hash": "e5b669eafd9a1d83afd0a84e8d3675c3b9ad744df943aeb108be405a696fcc51"
   }
  }
 },
 "nbformat": 4,
 "nbformat_minor": 2
}
