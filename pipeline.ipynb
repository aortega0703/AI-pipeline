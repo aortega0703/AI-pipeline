{
 "cells": [
  {
   "cell_type": "markdown",
   "metadata": {},
   "source": [
    "### Imports"
   ]
  },
  {
   "cell_type": "code",
   "execution_count": null,
   "metadata": {},
   "outputs": [],
   "source": [
    "import scipy as sci\n",
    "from scipy import stats\n",
    "import pandas as pd\n",
    "import numpy as np\n",
    "import matplotlib.pyplot as plt\n",
    "from matplotlib import cm\n",
    "from matplotlib import colors\n",
    "%matplotlib widget"
   ]
  },
  {
   "cell_type": "markdown",
   "metadata": {},
   "source": [
    "### Read Data"
   ]
  },
  {
   "cell_type": "code",
   "execution_count": null,
   "metadata": {},
   "outputs": [],
   "source": [
    "file = 'Iris.csv'\n",
    "data = pd.read_csv(file, index_col=0, header=0).reset_index(drop=True)\n",
    "N_S = len(data.index)\n",
    "indices = data.index"
   ]
  },
  {
   "cell_type": "markdown",
   "metadata": {},
   "source": [
    "### Preprocess"
   ]
  },
  {
   "cell_type": "code",
   "execution_count": null,
   "metadata": {},
   "outputs": [],
   "source": [
    "X_S, Y_S = data.iloc[:, :-1], data.iloc[:, -1]\n",
    "\n",
    "def normalize(points):\n",
    "    min = points.min(axis=0)\n",
    "    scale = points.max(axis=0) - min\n",
    "    def denormalize(points):\n",
    "        return points * scale + min\n",
    "    return (points - min) / scale, denormalize\n",
    "\n",
    "X_S, denormalize = normalize(X_S)\n",
    "\n",
    "def cat_to_int(data):\n",
    "    cat = data.unique()\n",
    "    cat_convert = dict(zip(cat, range(len(cat))))\n",
    "    cat_revert = dict(zip(range(len(cat)), cat))\n",
    "    return data.apply(lambda x: cat_convert[x]), cat_revert\n",
    "\n",
    "Y_S, cat_revert = cat_to_int(Y_S)\n"
   ]
  },
  {
   "cell_type": "markdown",
   "metadata": {},
   "source": [
    "### Learner measures"
   ]
  },
  {
   "cell_type": "code",
   "execution_count": null,
   "metadata": {},
   "outputs": [],
   "source": [
    "# lower bound to sample size\n",
    "def PAC_eta(H_norm, delta, epsilon):\n",
    "    return (np.ln(H_norm) - np.ln(delta))/epsilon\n",
    "\n",
    "# lower bound to generalization error\n",
    "\n",
    "\n",
    "def PAC_delta(H_norm, epsilon, eta):\n",
    "    return H_norm/np.exp(eta*epsilon)\n"
   ]
  },
  {
   "cell_type": "markdown",
   "metadata": {},
   "source": [
    "# Sampling"
   ]
  },
  {
   "cell_type": "markdown",
   "metadata": {},
   "source": [
    "## Distributions"
   ]
  },
  {
   "cell_type": "code",
   "execution_count": null,
   "metadata": {},
   "outputs": [],
   "source": [
    "pdf_names = [\"Uniform\", \"Triangular\", \"Normal\"]\n",
    "\n",
    "\n",
    "def pdf(pdf, x): return {\n",
    "    \"Uniform\": sci.stats.uniform.pdf(x, 0, N),\n",
    "    \"Triangular\": sci.stats.triang.pdf(x, 0.5, -1, N+1),\n",
    "    \"Normal\": sci.stats.norm.pdf(x, N//2, N//6)}[pdf]\n",
    "\n",
    "\n",
    "plt.figure()\n",
    "for name in pdf_names:\n",
    "    plt.plot(x, pdf(name, x), label=name)\n",
    "plt.legend()\n",
    "plt.title(\"Probability Density Function\")\n",
    "plt.xlabel(\"Sample Index\")\n",
    "\n",
    "plt.figure()\n",
    "for name in pdf_names:\n",
    "    p = pdf(name, x)\n",
    "    I = np.log2(1/p)\n",
    "    H = np.sum(-p*np.log2(p))\n",
    "    plt.plot(x, I, label=f\"{name}: {H:.2f}\")\n",
    "plt.legend(title=\"$\\\\bf{Entropy}$\")\n",
    "plt.title(\"Information content\")\n",
    "plt.xlabel(\"Sample Index\")\n"
   ]
  },
  {
   "cell_type": "markdown",
   "metadata": {},
   "source": [
    "## Comparison of samples"
   ]
  },
  {
   "cell_type": "code",
   "execution_count": null,
   "metadata": {},
   "outputs": [],
   "source": [
    "def set_axis_labels(ax, x, y, z):\n",
    "    ax.set_xlabel(x)\n",
    "    ax.set_ylabel(y)\n",
    "    ax.set_zlabel(z)\n",
    "\n",
    "\n",
    "for name in pdf_names:\n",
    "    plt.figure()\n",
    "    ax = plt.axes(projection='3d', title=f\"{name} Sampling\")\n",
    "    sample = data.sample(frac=0.6, weights=pdf(name, x))\n",
    "    total = 0\n",
    "    for (k, v) in cats1.items():\n",
    "        total += np.sum(sample[\"Species\"] == v)\n",
    "        p = sample[sample[\"Species\"] == v]\n",
    "        ax.scatter(*zip(*p.iloc[:, 0:3].values.tolist()),\n",
    "                   label=f\"{k}: {len(p)}\")\n",
    "    plt.legend(title=f\"Samples: {total}\")\n",
    "    set_axis_labels(ax, *p.columns[0:3])\n"
   ]
  },
  {
   "cell_type": "markdown",
   "metadata": {},
   "source": [
    "# Training"
   ]
  },
  {
   "cell_type": "code",
   "execution_count": null,
   "metadata": {},
   "outputs": [],
   "source": [
    "# gets B such that ||Y-XB||^2 is minimized\n",
    "def regression(X, Y):\n",
    "    # Adds a 1s column to X to represent a constant parameter\n",
    "    X = np.append(np.ones(X.shape[0])[:, None], X, axis=1)\n",
    "    Beta = np.asmatrix(X.T @ X).I @ X.T @ Y\n",
    "    return Beta\n",
    "\n",
    "\n",
    "sample = data.sample(frac=0.6, weights=pdf(\"Uniform\", x))\n",
    "X = sample.iloc[:, :-1]\n",
    "Y = sample.iloc[:, -1]\n",
    "\n",
    "X = normalize(X)\n",
    "Beta = regression(X, Y)\n",
    "a = np.mgrid[0:1:0.1, 0:1:0.1, 0:1:0.1, 0:1:0.1]\n",
    "X = np.append(np.ones(X.shape[0])[:, None], X, axis=1)\n",
    "Z = np.round(X@Beta)\n",
    "A = pd.DataFrame(X[:, 1:], index=Y.index)\n",
    "A['Z'] = Z\n",
    "\n",
    "plt.figure()\n",
    "ax = plt.axes(projection='3d', title=\"Linear Regression\")\n",
    "total = 0\n",
    "errors = 0\n",
    "for (k, v) in cats1.items():\n",
    "    TP = (A[\"Z\"] == v) & (Y == v)\n",
    "    FP = (A[\"Z\"] == v) & (Y != v)\n",
    "    errors += np.sum(FP)\n",
    "    total += np.sum(TP)\n",
    "    p = A[TP]\n",
    "    c = ax.scatter(*zip(*p.iloc[:, 0:3].values.tolist()), marker=\"o\",\n",
    "                   label=f\"{k}: {len(p)}/{np.sum(FP)}\").get_facecolors()[0]\n",
    "    if np.sum(FP) > 0:\n",
    "        p = A[FP]\n",
    "        ax.scatter(*zip(*p.iloc[:, 0:3].values.tolist()), marker=\"x\", color=c)\n",
    "plt.legend(title=f\"Matches/Errors: {total}/{errors}\")\n",
    "set_axis_labels(ax, *p.columns[0:3])\n"
   ]
  }
 ],
 "metadata": {
  "kernelspec": {
   "display_name": "Python 3.9.2 64-bit",
   "language": "python",
   "name": "python3"
  },
  "language_info": {
   "codemirror_mode": {
    "name": "ipython",
    "version": 3
   },
   "file_extension": ".py",
   "mimetype": "text/x-python",
   "name": "python",
   "nbconvert_exporter": "python",
   "pygments_lexer": "ipython3",
   "version": "3.9.2"
  },
  "orig_nbformat": 4,
  "vscode": {
   "interpreter": {
    "hash": "e5b669eafd9a1d83afd0a84e8d3675c3b9ad744df943aeb108be405a696fcc51"
   }
  }
 },
 "nbformat": 4,
 "nbformat_minor": 2
}
