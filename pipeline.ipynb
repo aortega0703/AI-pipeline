{
 "cells": [
  {
   "cell_type": "markdown",
   "metadata": {},
   "source": [
    "### Imports"
   ]
  },
  {
   "cell_type": "code",
   "execution_count": null,
   "metadata": {},
   "outputs": [],
   "source": [
    "import scipy as sci\n",
    "from scipy import stats\n",
    "import pandas as pd\n",
    "import numpy as np\n",
    "import matplotlib.pyplot as plt\n",
    "from matplotlib import cm\n",
    "from matplotlib import colors\n",
    "%matplotlib widget"
   ]
  },
  {
   "cell_type": "markdown",
   "metadata": {},
   "source": [
    "### Read Data"
   ]
  },
  {
   "cell_type": "code",
   "execution_count": null,
   "metadata": {},
   "outputs": [],
   "source": [
    "file = 'Iris.csv'\n",
    "data = pd.read_csv(file, index_col=0, header=0).reset_index(drop=True)\n",
    "N_S = len(data.index)\n",
    "indices = data.index"
   ]
  },
  {
   "cell_type": "markdown",
   "metadata": {},
   "source": [
    "### Preprocess"
   ]
  },
  {
   "cell_type": "code",
   "execution_count": null,
   "metadata": {},
   "outputs": [],
   "source": [
    "X_S, Y_S = data.iloc[:, :-1], data.iloc[:, -1]\n",
    "\n",
    "def normalize(points):\n",
    "    min = points.min(axis=0)\n",
    "    scale = points.max(axis=0) - min\n",
    "    def denormalize(points):\n",
    "        return points * scale + min\n",
    "    return (points - min) / scale, denormalize\n",
    "\n",
    "X_S, denormalize = normalize(X_S)\n",
    "\n",
    "def label_to_int(data):\n",
    "    labels = data.unique()\n",
    "    label_map = dict(zip(labels, range(len(labels))))\n",
    "    return data.apply(lambda x: label_map[x]), labels\n",
    "\n",
    "Y_S, labels = label_to_int(Y_S)"
   ]
  },
  {
   "cell_type": "markdown",
   "metadata": {},
   "source": [
    "### Learner measures"
   ]
  },
  {
   "cell_type": "code",
   "execution_count": null,
   "metadata": {},
   "outputs": [],
   "source": [
    "# lower bound to sample size\n",
    "def PAC_eta(H_norm, delta, epsilon):\n",
    "    return (np.ln(H_norm) - np.ln(delta))/epsilon\n",
    "\n",
    "# lower bound to generalization error\n",
    "def PAC_delta(H_norm, epsilon, eta):\n",
    "    return H_norm/np.exp(eta*epsilon)\n"
   ]
  },
  {
   "cell_type": "markdown",
   "metadata": {},
   "source": [
    "# Sampling"
   ]
  },
  {
   "cell_type": "markdown",
   "metadata": {},
   "source": [
    "### Sampling Distributions"
   ]
  },
  {
   "cell_type": "code",
   "execution_count": null,
   "metadata": {},
   "outputs": [],
   "source": [
    "def pdf(pdf, x, N): return pd.Series({\n",
    "    \"Uniform\": sci.stats.uniform.pdf(x, 0, N),\n",
    "    \"Triangular\": sci.stats.triang.pdf(x, 0.5, -1, N+1),\n",
    "    \"Normal\": sci.stats.norm.pdf(x, N//2, N//6)}[pdf], index=x)\n",
    "\n",
    "plt.figure()\n",
    "pdf_names = [\"Uniform\", \"Triangular\", \"Normal\"]\n",
    "for name in pdf_names:\n",
    "    F = pdf(name, indices, N_S)\n",
    "    plt.plot(indices, F, label=name)\n",
    "plt.legend()\n",
    "plt.title(\"Probability Density Functions\")\n",
    "plt.xlabel(\"Sample Index\")\n",
    "\n",
    "plt.figure()\n",
    "for name in pdf_names:\n",
    "    F = pdf(name, indices, N_S)\n",
    "    I = np.log2(1/F)\n",
    "    H = np.sum(-F*np.log2(F))\n",
    "    plt.plot(indices, I, label=f\"{name}: {H:.2f}\")\n",
    "plt.legend(title=\"$\\\\bf{Entropy}$\")\n",
    "plt.title(\"Information content\")\n",
    "plt.xlabel(\"Sample Index\")"
   ]
  },
  {
   "cell_type": "markdown",
   "metadata": {},
   "source": [
    "### Comparison of samples"
   ]
  },
  {
   "cell_type": "code",
   "execution_count": null,
   "metadata": {},
   "outputs": [],
   "source": [
    "def set_axis_labels(ax, x, y, z):\n",
    "    ax.set_xlabel(x)\n",
    "    ax.set_ylabel(y)\n",
    "    ax.set_zlabel(z)\n",
    "\n",
    "for name in pdf_names:\n",
    "    plt.figure()\n",
    "    ax = plt.axes(projection='3d', title=f\"{name} Sampling\")\n",
    "    sample = Y_S.sample(frac=0.6, weights=pdf(name, indices, N_S))\n",
    "    total = 0\n",
    "    for (k, v) in enumerate(labels):\n",
    "        matches = (sample == k).reindex(indices, fill_value=False)\n",
    "        total += np.sum(matches)\n",
    "        points = X_S[matches]\n",
    "        ax.scatter(*zip(*points.iloc[:, 0:3].values.tolist()),\n",
    "                   label=f\"{v}: {len(points)}\")\n",
    "    plt.legend(title=f\"Samples: {total}\")\n",
    "    set_axis_labels(ax, *points.columns[0:3])\n"
   ]
  },
  {
   "cell_type": "markdown",
   "metadata": {},
   "source": [
    "# Training"
   ]
  },
  {
   "cell_type": "code",
   "execution_count": null,
   "metadata": {},
   "outputs": [],
   "source": [
    "# gets B such that ||Y-XB||^2 is minimized\n",
    "def linear_regression(X, Y):\n",
    "    # Adds a 1s column to X to represent a constant parameter\n",
    "    X = np.append(X, np.ones((X.shape[0], 1)), axis=1)\n",
    "    Beta = np.asmatrix(X.T @ X).I @ X.T @ Y\n",
    "    return Beta\n",
    "\n",
    "\n",
    "weights = pdf(\"Uniform\", indices, N_S)\n",
    "sets = {\"train\": int(0.6*N_S), \n",
    "        \"test\": int(0.2*N_S),\n",
    "        \"validation\": int(0.2*N_S)}\n",
    "\n",
    "for k, v in sets.items():\n",
    "    Y = Y_S[weights.index].sample(n=v, weights=weights)\n",
    "    sets[k] = (X_S.iloc[Y.index, :], Y)\n",
    "    weights = weights.drop(Y.index)\n",
    "\n",
    "X, Y = sets[\"train\"]\n",
    "\n",
    "Beta = linear_regression(X, Y)\n",
    "\n",
    "for k in sets:\n",
    "    X, Y = sets[k]\n",
    "    X = X.copy()\n",
    "    X[\"ones\"] = np.ones(X.shape[0])\n",
    "    Z = np.round(X @ Beta)\n",
    "\n",
    "    plt.figure()\n",
    "    ax = plt.axes(projection='3d', title=f\"Linear Regression {k}\")\n",
    "    TP_total = 0\n",
    "    FP_total = 0\n",
    "\n",
    "    error_str = lambda T, F: f\"{F}/{F+T} ({F/(F+T):.2%})\"\n",
    "    for (k, v) in enumerate(labels):\n",
    "        TP = (Z == k) & (Y == k)\n",
    "        TP_sum = np.sum(TP)\n",
    "        TP_total += TP_sum\n",
    "        FP = (Z == k) & (Y != k)\n",
    "        FP_sum = np.sum(FP)\n",
    "        FP_total += FP_sum\n",
    "\n",
    "        color = ax._get_lines.get_next_color()\n",
    "        if TP_sum > 0:\n",
    "            ax.scatter(*zip(*X[TP].iloc[:,0:3].values),\n",
    "                    label=f\"{v}: {error_str(TP_sum, FP_sum)}\", color=color)\n",
    "        if FP_sum > 0:\n",
    "            ax.scatter(*zip(*X[FP].iloc[:, 0:3].values.tolist()), marker=\"x\", color=color)\n",
    "    plt.legend(title=f\"Errors: {error_str(TP_total, FP_total)}\")\n",
    "    set_axis_labels(ax, *X.columns[0:3])\n"
   ]
  }
 ],
 "metadata": {
  "kernelspec": {
   "display_name": "Python 3.9.2 64-bit",
   "language": "python",
   "name": "python3"
  },
  "language_info": {
   "codemirror_mode": {
    "name": "ipython",
    "version": 3
   },
   "file_extension": ".py",
   "mimetype": "text/x-python",
   "name": "python",
   "nbconvert_exporter": "python",
   "pygments_lexer": "ipython3",
   "version": "3.9.2"
  },
  "orig_nbformat": 4,
  "vscode": {
   "interpreter": {
    "hash": "e5b669eafd9a1d83afd0a84e8d3675c3b9ad744df943aeb108be405a696fcc51"
   }
  }
 },
 "nbformat": 4,
 "nbformat_minor": 2
}
