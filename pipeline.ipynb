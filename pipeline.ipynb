{
 "cells": [
  {
   "cell_type": "code",
   "execution_count": null,
   "metadata": {},
   "outputs": [],
   "source": [
    "import scipy as sci\n",
    "from scipy import stats\n",
    "import pandas as pd\n",
    "import numpy as np\n",
    "import matplotlib.pyplot as plt\n",
    "from matplotlib import cm\n",
    "from matplotlib import colors\n",
    "%matplotlib widget\n",
    "\n",
    "file = 'Iris.csv'\n",
    "data = pd.read_csv(file, index_col=0, header=0).reset_index(drop=True)\n",
    "N = len(data.index)\n",
    "\n",
    "cats = data[\"Species\"].unique()\n",
    "cats1 = dict(zip(cats, range(len(cats))))\n",
    "cats2 = dict(zip(range(len(cats)), cats))\n",
    "data[\"Species\"] = data[\"Species\"].apply(lambda x: cats1[x])\n",
    "\n",
    "x = data.index"
   ]
  },
  {
   "cell_type": "markdown",
   "metadata": {},
   "source": [
    "### Learner measures"
   ]
  },
  {
   "cell_type": "code",
   "execution_count": null,
   "metadata": {},
   "outputs": [],
   "source": [
    "# lower bound to sample size\n",
    "def PAC_eta(H_norm, delta, epsilon):\n",
    "    return (np.ln(H_norm) - np.ln(delta))/epsilon\n",
    "\n",
    "# lower bound to generalization error\n",
    "def PAC_delta(H_norm, epsilon, eta):\n",
    "    return H_norm/np.exp(eta*epsilon)"
   ]
  },
  {
   "cell_type": "markdown",
   "metadata": {},
   "source": [
    "## Sampling"
   ]
  },
  {
   "cell_type": "markdown",
   "metadata": {},
   "source": [
    "### Distributions"
   ]
  },
  {
   "cell_type": "code",
   "execution_count": null,
   "metadata": {},
   "outputs": [],
   "source": [
    "pdf_names = [\"Uniform\", \"Triangular\", \"Normal\"]\n",
    "\n",
    "def pdf(pdf, x): return {\n",
    "    \"Uniform\": sci.stats.uniform.pdf(x, 0, N),\n",
    "    \"Triangular\": sci.stats.triang.pdf(x, 0.5, -1, N+1),\n",
    "    \"Normal\": sci.stats.norm.pdf(x, N//2, N//6)}[pdf]\n",
    "\n",
    "plt.figure()\n",
    "for name in pdf_names:\n",
    "    plt.plot(x, pdf(name, x), label=name)\n",
    "plt.legend()\n",
    "plt.title(\"Probability Density Function\")\n",
    "plt.xlabel(\"Sample Index\")\n",
    "\n",
    "plt.figure()\n",
    "for name in pdf_names:\n",
    "    p = pdf(name, x)\n",
    "    I = np.log2(1/p)\n",
    "    H = np.sum(-p*np.log2(p))\n",
    "    plt.plot(x, I, label=f\"{name}: {H:.2f}\")\n",
    "plt.legend(title=\"$\\\\bf{Entropy}$\")\n",
    "plt.title(\"Information content\")\n",
    "plt.xlabel(\"Sample Index\")\n"
   ]
  },
  {
   "cell_type": "markdown",
   "metadata": {},
   "source": [
    "### Sampled"
   ]
  },
  {
   "cell_type": "code",
   "execution_count": null,
   "metadata": {},
   "outputs": [],
   "source": [
    "def set_axis_labels(ax, x, y, z):\n",
    "    ax.set_xlabel(x)\n",
    "    ax.set_ylabel(y)\n",
    "    ax.set_zlabel(z)\n",
    "\n",
    "for name in pdf_names:\n",
    "    plt.figure()\n",
    "    ax = plt.axes(projection='3d', title=f\"{name} Sampling\")\n",
    "    sample = data.sample(frac=0.6, weights=pdf(name, x))\n",
    "    total = 0\n",
    "    for (k, v) in cats1.items():\n",
    "        total += np.sum(sample[\"Species\"] == v)\n",
    "        p = sample[sample[\"Species\"] == v]\n",
    "        ax.scatter(*zip(*p.iloc[:, 0:3].values.tolist()),\n",
    "                   label=f\"{k}: {len(p)}\")\n",
    "    plt.legend(title=f\"Samples: {total}\")\n",
    "    set_axis_labels(ax, *p.columns[0:3])\n"
   ]
  }
 ],
 "metadata": {
  "kernelspec": {
   "display_name": "Python 3.9.2 64-bit",
   "language": "python",
   "name": "python3"
  },
  "language_info": {
   "codemirror_mode": {
    "name": "ipython",
    "version": 3
   },
   "file_extension": ".py",
   "mimetype": "text/x-python",
   "name": "python",
   "nbconvert_exporter": "python",
   "pygments_lexer": "ipython3",
   "version": "3.9.2"
  },
  "orig_nbformat": 4,
  "vscode": {
   "interpreter": {
    "hash": "e5b669eafd9a1d83afd0a84e8d3675c3b9ad744df943aeb108be405a696fcc51"
   }
  }
 },
 "nbformat": 4,
 "nbformat_minor": 2
}
