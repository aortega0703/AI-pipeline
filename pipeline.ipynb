{
 "cells": [
  {
   "cell_type": "markdown",
   "metadata": {},
   "source": [
    "### Imports"
   ]
  },
  {
   "cell_type": "code",
   "execution_count": null,
   "metadata": {},
   "outputs": [],
   "source": [
    "import scipy as sci\n",
    "from scipy import stats\n",
    "from scipy.special import expit\n",
    "import pandas as pd\n",
    "import numpy as np\n",
    "import matplotlib as mpl\n",
    "import matplotlib.pyplot as plt\n",
    "%matplotlib widget\n"
   ]
  },
  {
   "cell_type": "markdown",
   "metadata": {},
   "source": [
    "### Read Data"
   ]
  },
  {
   "cell_type": "code",
   "execution_count": null,
   "metadata": {},
   "outputs": [],
   "source": [
    "file = 'examen.csv'\n",
    "data = pd.read_csv(file, index_col=None, header=None).reset_index(drop=True)\n",
    "N_S = len(data.index)\n",
    "indices = data.index"
   ]
  },
  {
   "cell_type": "markdown",
   "metadata": {},
   "source": [
    "### Preprocess"
   ]
  },
  {
   "cell_type": "code",
   "execution_count": null,
   "metadata": {},
   "outputs": [],
   "source": [
    "X_S = data.iloc[:, :3]\n",
    "\n",
    "def normalize(points):\n",
    "    min = points.min(axis=0)\n",
    "    scale = points.max(axis=0) - min\n",
    "    def denormalize(points):\n",
    "        return points * scale + min\n",
    "    return (points - min) / scale, denormalize\n",
    "\n",
    "X_S, denormalize = normalize(X_S)\n",
    "X_S, Y_S = X_S.iloc[:, :2], X_S.iloc[:, 2]\n",
    "\n",
    "def label_to_int(data):\n",
    "    labels = data.unique()\n",
    "    label_map = dict(zip(labels, range(len(labels))))\n",
    "    return data.apply(lambda x: label_map[x]), labels\n",
    "\n",
    "#Y_S, labels = label_to_int(Y_S)\n",
    "print(X_S)\n",
    "print(Y_S)"
   ]
  },
  {
   "cell_type": "markdown",
   "metadata": {},
   "source": [
    "### Learner measures"
   ]
  },
  {
   "cell_type": "code",
   "execution_count": null,
   "metadata": {},
   "outputs": [],
   "source": [
    "# lower bound to sample size\n",
    "def PAC_eta(H_norm, delta, epsilon):\n",
    "    return (np.ln(H_norm) - np.ln(delta))/epsilon\n",
    "\n",
    "# lower bound to generalization error\n",
    "def PAC_delta(H_norm, epsilon, eta):\n",
    "    return H_norm/np.exp(eta*epsilon)\n"
   ]
  },
  {
   "cell_type": "markdown",
   "metadata": {},
   "source": [
    "# Sampling"
   ]
  },
  {
   "cell_type": "markdown",
   "metadata": {},
   "source": [
    "### Sampling Distributions"
   ]
  },
  {
   "cell_type": "code",
   "execution_count": null,
   "metadata": {},
   "outputs": [],
   "source": [
    "pdf_names = [\"Uniform\", \"Triangular\", \"Normal\"]\n",
    "\n",
    "\n",
    "def pdf(pdf, x, N):\n",
    "    return pd.Series(dict(zip(pdf_names, [\n",
    "        sci.stats.uniform.pdf(x, 0, N),\n",
    "        sci.stats.triang.pdf(x, 0.5, -1, N+1),\n",
    "        sci.stats.norm.pdf(x, N//2, N//6)])\n",
    "        )[pdf], index=x)\n",
    "\n",
    "\n",
    "plt.figure()\n",
    "for name in pdf_names:\n",
    "    F = pdf(name, indices, N_S)\n",
    "    plt.plot(indices, F, label=name)\n",
    "plt.legend()\n",
    "plt.title(\"Probability Density Functions\")\n",
    "plt.xlabel(\"Sample Index\")\n",
    "\n",
    "plt.figure()\n",
    "for name in pdf_names:\n",
    "    F = pdf(name, indices, N_S)\n",
    "    I = np.log2(1/F)\n",
    "    H = np.sum(-F*np.log2(F))\n",
    "    plt.plot(indices, I, label=f\"{name}: {H:.2f}\")\n",
    "plt.legend(title=\"$\\\\bf{Entropy}$\")\n",
    "plt.title(\"Information content\")\n",
    "plt.xlabel(\"Sample Index\")\n"
   ]
  },
  {
   "cell_type": "markdown",
   "metadata": {},
   "source": [
    "### Comparison of samples"
   ]
  },
  {
   "cell_type": "code",
   "execution_count": null,
   "metadata": {},
   "outputs": [],
   "source": [
    "def set_axis_labels(ax, x, y, z):\n",
    "    ax.set_xlabel(x)\n",
    "    ax.set_ylabel(y)\n",
    "    ax.set_zlabel(z)\n",
    "\n",
    "sets = {\"train\": int(0.6*N_S),\n",
    "        \"test\": int(0.2*N_S),\n",
    "        \"validation\": int(0.2*N_S)}\n",
    "\n",
    "sets_uniform = sets.copy()\n",
    "\n",
    "for name in pdf_names:\n",
    "    weights = pdf(name, indices, N_S)\n",
    "    sets_curr = sets.copy()\n",
    "    plt.figure()\n",
    "    ax = plt.axes(title=f\"{name} Sampling\")\n",
    "    \n",
    "    for k, v in sets_curr.items():\n",
    "        X_sample = X_S.iloc[weights.index, :2].sample(n=v, weights=weights)\n",
    "        if name == \"Uniform\":\n",
    "            sets_uniform[k] = (X_sample, Y_S.iloc[X_sample.index])\n",
    "        weights = weights.drop(X_sample.index)\n",
    "        sets_curr[k] = X_sample.index\n",
    "\n",
    "    ax.hist(sets_curr.values(), stacked=True, bins=15,\n",
    "        label=[f\"{k}: {len(v)}\" for k, v in sets_curr.items()])    \n",
    "    plt.legend(title=\"Samples per set\")"
   ]
  },
  {
   "cell_type": "markdown",
   "metadata": {},
   "source": [
    "# Supervised Learning"
   ]
  },
  {
   "cell_type": "markdown",
   "metadata": {},
   "source": [
    "### Neural Network"
   ]
  },
  {
   "cell_type": "code",
   "execution_count": null,
   "metadata": {},
   "outputs": [],
   "source": [
    "def to_vector(Y, cats):\n",
    "    id = np.identity(cats)\n",
    "    return np.array([id[c, :] for c in Y])\n",
    "    \n",
    "def update(X, Yd, W, B, phi, dphi):\n",
    "    p = X.shape[1]\n",
    "\n",
    "    # feedforward\n",
    "    V = [None] * (k+1)\n",
    "    Y = [None] * (k+1)\n",
    "    Y[0] = X\n",
    "    for l in range(1, k+1):\n",
    "        V[l] = W[l] @ Y[l-1]\n",
    "        if B != None:\n",
    "            V[l] += B[l]\n",
    "        Y[l] = phi(V[l])\n",
    "    #softmax = lambda x: np.exp(x) / sum(np.exp(x))\n",
    "    #dsoftmax = lambda x: np.diag(softmax(x).flatten()) @ (np.eye(x.shape[0]) - softmax(x))\n",
    "\n",
    "    # backpropagation\n",
    "    dE = Y[k] - Yd\n",
    "    E = np.diag((Y[k] - Yd).T @ (Y[k] - Yd))/2\n",
    "\n",
    "    delta = [None] * (k+1)\n",
    "    delta[k] = dE * dphi(V[k])\n",
    "    for l in reversed(range(1, k)):\n",
    "        delta[l] = (W[l+1].T @ delta[l+1]) * dphi(V[l])\n",
    "\n",
    "    # update\n",
    "    for l in range(1, k+1):\n",
    "        W[l] -= (delta[l] @ Y[l-1].T) / p\n",
    "        if B != None:\n",
    "            B[l] -= (delta[l] @ np.ones((p, 1))) / p\n",
    "    return W, B, delta, E\n"
   ]
  },
  {
   "cell_type": "code",
   "execution_count": null,
   "metadata": {},
   "outputs": [],
   "source": [
    "X, Yd = sets_uniform[\"train\"]\n",
    "X, Yd = X.to_numpy().T, Yd.to_numpy()[:, None].T\n",
    "X_test, Y_test = sets_uniform[\"test\"]\n",
    "X_test, Y_test = X_test.to_numpy().T, Y_test.to_numpy().T\n",
    "\n",
    "neurons = [X.shape[0], 2, 2, Yd.shape[0]]\n",
    "k = len(neurons) - 1\n",
    "epochs = 1000\n",
    "\n",
    "np.random.seed(69)\n",
    "W = [None] * (k+1)\n",
    "B = [None] * (k+1)\n",
    "for l in range(1, k+1):\n",
    "    W[l] = np.random.randn(neurons[l], neurons[l-1])\n",
    "    B[l] = np.random.randn(neurons[l])[:, None]\n",
    "phi = expit\n",
    "def dphi(x): return phi(x) * (1 - phi(x))\n",
    "\n",
    "deltas = []\n",
    "errors = {\"train\": [],\n",
    "          \"test\": [],\n",
    "          \"validation\": []}\n",
    "ys = []\n",
    "for i in range(epochs):\n",
    "    W, B, delta, E = update(X, Yd, W, B, phi, dphi)\n",
    "    deltas.append([np.mean(sum(np.abs(delta[l]))) for l in range(1, k+1)])\n",
    "    errors[\"train\"].append(sum(E)/X.shape[1])\n",
    "    Y_last = X_test\n",
    "    for l in range(1, k+1):\n",
    "        V_last = W[l] @ Y_last + B[l]\n",
    "        Y_last = phi(V_last)\n",
    "    E = np.diag((Y_last - Y_test).T @ (Y_last - Y_test))/2\n",
    "    errors[\"test\"].append(sum(E)/Y_last.shape[1])\n",
    "    ys.append([Y_last])\n",
    "\n",
    "deltas = np.array(deltas).T"
   ]
  },
  {
   "cell_type": "code",
   "execution_count": null,
   "metadata": {},
   "outputs": [],
   "source": [
    "plt.figure()\n",
    "ax = plt.axes(title=f\"Gradients per epoch\")\n",
    "ax.plot(range(epochs), deltas.T, label=range(deltas.shape[0]))\n",
    "ax.legend(title=\"Layer\")\n",
    "\n",
    "plt.figure()\n",
    "ax = plt.axes(title=f\"Error per epoch\")\n",
    "ax.plot(range(epochs), errors[\"train\"], label=\"train\")\n",
    "ax.plot(range(epochs), errors[\"test\"], label=\"test\")\n",
    "plt.legend(title=\"Set\")\n",
    "\n",
    "plt.figure()\n",
    "ax = plt.axes(projection=\"3d\", title=f\"Error per epoch\")\n",
    "ax.scatter(X_test[0, :], X_test[1, :], Y_test, label=\"train\")\n",
    "for k in range(0, len(ys), len(ys)//10):\n",
    "    ax.scatter(X_test[0, :], X_test[1, :], ys[k][0])\n",
    "plt.legend(title=\"Set\")"
   ]
  }
 ],
 "metadata": {
  "kernelspec": {
   "display_name": "Python 3.9.2 64-bit",
   "language": "python",
   "name": "python3"
  },
  "language_info": {
   "codemirror_mode": {
    "name": "ipython",
    "version": 3
   },
   "file_extension": ".py",
   "mimetype": "text/x-python",
   "name": "python",
   "nbconvert_exporter": "python",
   "pygments_lexer": "ipython3",
   "version": "3.9.2"
  },
  "orig_nbformat": 4,
  "vscode": {
   "interpreter": {
    "hash": "e5b669eafd9a1d83afd0a84e8d3675c3b9ad744df943aeb108be405a696fcc51"
   }
  }
 },
 "nbformat": 4,
 "nbformat_minor": 2
}
