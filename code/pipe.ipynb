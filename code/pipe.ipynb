{
 "cells": [
  {
   "cell_type": "markdown",
   "metadata": {},
   "source": [
    "### Preliminars"
   ]
  },
  {
   "cell_type": "markdown",
   "metadata": {},
   "source": [
    "##### Imports"
   ]
  },
  {
   "cell_type": "code",
   "execution_count": null,
   "metadata": {},
   "outputs": [],
   "source": [
    "import preprocess\n",
    "import sample\n",
    "import cluster\n",
    "import nn\n",
    "import k_means\n",
    "import fuzzy_c_means\n",
    "import mountain\n",
    "import regression\n",
    "import visualize\n",
    "import index\n",
    "\n",
    "import numpy as np\n",
    "import matplotlib.pyplot as plt\n",
    "import itertools as iter\n",
    "import os\n",
    "\n",
    "%matplotlib widget\n",
    "%reload_ext autoreload\n",
    "%autoreload 2\n",
    "\n",
    "np.random.seed(420)\n",
    "x_size, y_size = 4, 4\n",
    "def fig_size(y, x): return (x*x_size, y*y_size)\n",
    "import os, sys\n",
    "\n",
    "class HiddenPrints:\n",
    "    def __enter__(self):\n",
    "        self._original_stdout = sys.stdout\n",
    "        sys.stdout = open(os.devnull, 'w')\n",
    "\n",
    "    def __exit__(self, exc_type, exc_val, exc_tb):\n",
    "        sys.stdout.close()\n",
    "        sys.stdout = self._original_stdout\n",
    "\n",
    "image = \"../images/\"\n",
    "table = \"../tables/\"\n"
   ]
  },
  {
   "cell_type": "markdown",
   "metadata": {},
   "source": [
    "##### Read Data"
   ]
  },
  {
   "cell_type": "code",
   "execution_count": null,
   "metadata": {},
   "outputs": [],
   "source": [
    "dataset = 0\n",
    "if dataset == 0:\n",
    "    csv_file = \"../data/pulsar_data_train.csv\"\n",
    "    csv_index, csv_header = None, 0\n",
    "    csv_out = -1\n",
    "    classify = True\n",
    "elif dataset == 1:\n",
    "    csv_file = \"../data/IRIS.csv\"\n",
    "    csv_index, csv_header = 0, 0\n",
    "    csv_out = -1\n",
    "    classify = True\n",
    "else:\n",
    "    csv_file = '../data/examen.csv'\n",
    "    csv_index, csv_header = None, None\n",
    "    csv_out = -1\n",
    "    classify = False\n",
    "\n",
    "data, N_S, I_S = preprocess.get_data(csv_file, csv_header, csv_index)\n",
    "X_S, Y_S, X_name, Y_name = preprocess.split_XY(data, csv_out)\n",
    "X_S, Y_S, X_revert, Y_revert = preprocess.preprocess(X_S.T, Y_S.T, classify)"
   ]
  },
  {
   "cell_type": "markdown",
   "metadata": {},
   "source": [
    "### Data Distribution"
   ]
  },
  {
   "cell_type": "code",
   "execution_count": null,
   "metadata": {},
   "outputs": [],
   "source": [
    "fig, ax = plt.subplots(subplot_kw={'projection': '3d'}, layout=\"tight\")\n",
    "\n",
    "visualize.cluster(ax, X_S[[0,1,6], :], Y_S, title=\"Data Distribution\", axes_names=[\"X_0\", \"X_1\", \"X_6\"], cluster_names=Y_revert, fuzzy=False)\n",
    "fig.savefig(f\"{image}dist.png\", bbox_inches='tight')"
   ]
  },
  {
   "cell_type": "markdown",
   "metadata": {},
   "source": [
    "# Sample"
   ]
  },
  {
   "cell_type": "markdown",
   "metadata": {},
   "source": [
    "### PDF properties"
   ]
  },
  {
   "cell_type": "code",
   "execution_count": null,
   "metadata": {},
   "outputs": [],
   "source": [
    "pdf_info = sample.pdf_info(I_S)\n"
   ]
  },
  {
   "cell_type": "code",
   "execution_count": null,
   "metadata": {},
   "outputs": [],
   "source": [
    "fig, ax = plt.subplots(1, 2, figsize=fig_size(1, 2))\n",
    "fig.suptitle(\"Sample PDF analytical comparison\")\n",
    "ax[0].set_title(\"Probability Density Function\")\n",
    "ax[1].set_title(\"Information content\")\n",
    "cluster.axis_labels(ax[0], \"Sample Index\", \"$f(x)$\")\n",
    "cluster.axis_labels(ax[1], \"Sample Index\", \"$I(x)$\")\n",
    "\n",
    "for name, info in pdf_info.items():\n",
    "    ax[0].plot(I_S, info[\"F\"], label=f\"{name}: {info['H']:.2f}\")\n",
    "    ax[1].plot(I_S, info[\"I\"])\n",
    "fig.legend(title=\"Entropy $H(X)$\", loc=\"lower center\")\n",
    "fig.savefig(f\"{image}sample:info\", bbox_inches='tight')\n"
   ]
  },
  {
   "cell_type": "markdown",
   "metadata": {},
   "source": [
    "### Sampling data"
   ]
  },
  {
   "cell_type": "code",
   "execution_count": null,
   "metadata": {},
   "outputs": [],
   "source": [
    "pdf_sample = sample.sample(I_S)\n",
    "partition_i = pdf_sample[\"Uniform\"]\n",
    "partition = {k: (X_S[:, v], Y_S[:, v]) for k, v in partition_i.items()}\n"
   ]
  },
  {
   "cell_type": "code",
   "execution_count": null,
   "metadata": {},
   "outputs": [],
   "source": [
    "#Figure title\n",
    "fig, ax = plt.subplots(1, 3, figsize=fig_size(1, 3))\n",
    "fig.suptitle(\"Sample PDF, index distribution\")\n",
    "for ax_i, (pdf_name, pdf_partition) in zip(ax, pdf_sample.items()):\n",
    "    ax_i.set_title(f\"{pdf_name} Sampling\")\n",
    "    cluster.axis_labels(ax_i, 'Index', 'Sample Count')\n",
    "    ax_i.hist(pdf_partition.values(), stacked=True, bins=100)\n",
    "    if not cluster:\n",
    "        continue\n",
    "    legend = []\n",
    "\n",
    "    for c in range(len(Y_revert)):\n",
    "        legend_temp = []\n",
    "        for partition_name, partition_index in pdf_partition.items():\n",
    "            legend_temp.append(f\"{np.sum(Y_S[c, partition_index])/np.sum(Y_S[c,:] == 1):.0%}\")\n",
    "        legend.append(f\"{Y_revert[c]}: \" + \" / \".join(legend_temp))\n",
    "\n",
    "    legend = ax_i.legend(legend, title=\"Cluster distribution\", loc=\"lower left\", handlelength=0, handletextpad=0)\n",
    "legend = fig.legend([f\"{k}: {len(v)} ({len(v)/N_S:.0%})\"\n",
    "                     for k, v in partition_i.items()] + [f\"Total: {N_S}\"],\n",
    "                    title=\"Data Distribution\", loc=\"upper right\")\n",
    "legend.legendHandles[-1].set_visible(False)\n",
    "fig.savefig(f\"{image}sample:hist:index\", bbox_inches='tight')\n"
   ]
  },
  {
   "cell_type": "code",
   "execution_count": null,
   "metadata": {},
   "outputs": [],
   "source": [
    "    \n",
    "fig, ax = plt.subplots(3, 3, figsize=fig_size(3, 3), constrained_layout = True)\n",
    "fig.suptitle(f\"Sample PDF, attribute distribution (Uniform)\")\n",
    "for i in range(len(X_name)):\n",
    "    ax_i = ax.flatten()[i]\n",
    "    ax_i.set_title(f\"$X_{i}$\")\n",
    "    cluster.axis_labels(ax_i, 'Value', 'Sample Count')\n",
    "    for p in partition.values():\n",
    "        yh, xh = np.histogram(X_revert(p[0])[i, :], bins=100)\n",
    "        ax_i.plot(xh[:-1], yh)\n",
    "i = 8\n",
    "ax_i = ax.flatten()[i]\n",
    "ax_i.set_title(f\"$Y$\")\n",
    "cluster.axis_labels(ax_i, 'Value', 'Sample Count')\n",
    "ax_i.hist([list(map(lambda x: Y_revert[x], np.argmax(p[1], axis=0))) for p in partition.values()], stacked=True, bins=2)\n",
    "legend = fig.legend([f\"{k}: {len(v)} ({len(v)/N_S:.0%})\"\n",
    "                    for k, v in partition_i.items()] + [f\"Total: {N_S}\"],\n",
    "                    title=\"Data Distribution\", loc=\"upper right\")\n",
    "legend.legendHandles[-1].set_visible(False)\n",
    "fig.savefig(f\"{image}sample:hist:variables\", bbox_inches='tight')"
   ]
  },
  {
   "cell_type": "markdown",
   "metadata": {},
   "source": [
    "# Supervised Learning"
   ]
  },
  {
   "cell_type": "markdown",
   "metadata": {},
   "source": [
    "### Linear Regression"
   ]
  },
  {
   "cell_type": "code",
   "execution_count": null,
   "metadata": {},
   "outputs": [],
   "source": [
    "B_linear, E_linear = regression.linear(*partition[\"Train\"])\n",
    "B_logistic, E_logistic = regression.logistic(*partition[\"Train\"])\n"
   ]
  },
  {
   "cell_type": "code",
   "execution_count": null,
   "metadata": {},
   "outputs": [],
   "source": [
    "for name, (X, Y) in partition.items():\n",
    "    # create fig and subplots\n",
    "    fig, ax = plt.subplots(1, 2, figsize=fig_size(\n",
    "        1, 2), subplot_kw={'projection': '3d'})\n",
    "    fig.suptitle(f\"Regression Output ({name})\")\n",
    "\n",
    "    # Linear Regression\n",
    "    U = regression.linear_eval(X, B_linear)\n",
    "    visualize.cluster(ax[0], X, U, Ud=Y, fuzzy=True, title=f\"Linear\")\n",
    "\n",
    "    # Logistic Regression\n",
    "    U = regression.logistic_eval(X, B_logistic)\n",
    "    visualize.cluster(ax[1], X, U, Ud=Y, fuzzy=True, title=f\"Logistic\")\n",
    "    \n",
    "    # Confusion matrix\n",
    "    CM = index.confusion(U, Y,supervise=True)\n",
    "    CM = CM.astype(\"float64\")\n",
    "\n",
    "    # Indices\n",
    "    indices = np.array([[i_name, f\"{i_f(*CM.flatten()):.3f}\"] \n",
    "        for i_name, i_f in index.index.items()])\n",
    "\n",
    "    # Save\n",
    "    fig.savefig(f\"{image}regression:{name.lower()}\", bbox_inches='tight')\n",
    "    CM.tofile(f\"{table}regression:CM:{name.lower()}.csv\",\n",
    "        sep = \",\", format = \"%.2f\")\n",
    "    indices.tofile(f\"{table}regression:indices:{name.lower()}.csv\",\n",
    "        sep = \",\")\n"
   ]
  },
  {
   "cell_type": "code",
   "execution_count": null,
   "metadata": {},
   "outputs": [],
   "source": [
    "visualize.CM_string(CM)"
   ]
  },
  {
   "cell_type": "markdown",
   "metadata": {},
   "source": [
    "### Neural Network"
   ]
  },
  {
   "cell_type": "code",
   "execution_count": null,
   "metadata": {},
   "outputs": [],
   "source": [
    "epochs = 2000\n",
    "neurons = np.array(range(5))+1\n",
    "layers = np.array(range(3))+1\n",
    "eta = [0.2, 0.5, 0.9]\n",
    "\n",
    "nn_metric = {\n",
    "    \"grad:min\": (np.inf, None, None), \n",
    "    \"grad:max\": (-np.inf, None, None),\n",
    "    \"err:min\" : (np.inf, None, None),\n",
    "    \"err:max\" : (-np.inf, None, None)\n",
    "}\n",
    "\n",
    "for params in iter.product(neurons, layers, eta):   \n",
    "    c_neurons, c_layers, c_eta = params\n",
    "    print(params)\n",
    "    with HiddenPrints():\n",
    "        W, B, delta_nn, E_nn = nn.train(partition[\"Train\"], epochs=epochs, \n",
    "            hidden=[c_neurons] * c_layers, eta=c_eta, classify=classify, test_set=partition)\n",
    "    grad = np.sum(delta_nn[-1])\n",
    "    err = np.sum([e[-1] for e in E_nn.values()])\n",
    "\n",
    "    if grad < nn_metric[\"grad:min\"][0]:\n",
    "        nn_metric[\"grad:min\"] = (grad, params, (W, B, delta_nn, E_nn))\n",
    "    if grad > nn_metric[\"grad:max\"][0]:\n",
    "        nn_metric[\"grad:max\"] = (grad, params, (W, B, delta_nn, E_nn))\n",
    "    if err < nn_metric[\"err:min\"][0]:\n",
    "        nn_metric[\"err:min\"] = (err, params, (W, B, delta_nn, E_nn))\n",
    "    if err > nn_metric[\"err:max\"][0]:\n",
    "        nn_metric[\"err:max\"] = (err, params, (W, B, delta_nn, E_nn))"
   ]
  },
  {
   "cell_type": "code",
   "execution_count": null,
   "metadata": {},
   "outputs": [],
   "source": [
    "skip = 10\n",
    "nn_title = {\n",
    "    \"grad:min\": \"Min Gradient\",\n",
    "    \"grad:max\": \"Max Gradient\",\n",
    "    \"err:min\": \"Min Error\",\n",
    "    \"err:max\": \"Max Error\"\n",
    "}\n",
    "for name, (value, (neurons, layers, eta), ((W, B, delta_nn, E_nn))) in nn_metric.items():\n",
    "    fig, ax = plt.subplots(1, 2, figsize=fig_size(1, 2), layout=\"tight\")\n",
    "    fig.suptitle(f\"{nn_title[name]}: {neurons, layers, eta}\")\n",
    "    ax[0].set_title(\"Gradients per epoch\")\n",
    "    ax[0].plot(range(skip, epochs), delta_nn[skip:],\n",
    "            label=[f\"{l}: {d:.2e}\" for l, d in enumerate(delta_nn[-1])])\n",
    "    ax[0].plot([], [], label = f\"Total: {np.sum(delta_nn[-1]):.2e}\")\n",
    "    legend = ax[0].legend(title=\"Layer\", loc=\"upper right\")\n",
    "    legend.legendHandles[-1].set_visible(False)\n",
    "    cluster.axis_labels(ax[0], \"Epoch\",\n",
    "                        \"Average Length of Gradients $\\\\overline{\\\\Vert\\\\delta_l\\\\Vert_2}$\")\n",
    "\n",
    "    ax[1].set_title(\"Error per epoch\")\n",
    "    for p_name in E_nn.keys():\n",
    "        ax[1].plot(range(skip, epochs), E_nn[p_name][skip:],\n",
    "                label=f\"{p_name}: {E_nn[p_name][-1]:.2e}\")\n",
    "    ax[1].plot([], [], label = f\"Total: {np.sum([e[-1] for e in E_nn.values()]):.2e}\")\n",
    "    legend = ax[1].legend(title=\"Partition\", loc=\"upper right\")\n",
    "    legend.legendHandles[-1].set_visible(False)\n",
    "    cluster.axis_labels(ax[1], \"Epoch\",\n",
    "                        \"Average Error $\\\\frac{\\\\overline{\\\\Vert Y_d - Y_k\\\\Vert_2}}{2}$\")\n",
    "    fig.savefig(f\"{image}nn:{name}.png\", bbox_inches='tight')"
   ]
  },
  {
   "cell_type": "code",
   "execution_count": null,
   "metadata": {},
   "outputs": [],
   "source": [
    "for name, (value, (neurons, layers, eta), (W, B, delta_nn, E_nn)) in nn_metric.items():\n",
    "    print(name)\n",
    "    with HiddenPrints():\n",
    "        W, B, delta_nn2, E_nn2 = nn.train(partition[\"Train\"], epochs=epochs,\n",
    "           hidden=[neurons] * layers, eta=c_eta, classify=classify, test_set=partition, W=W, B=B)\n",
    "    delta_nn.extend(delta_nn2)\n",
    "    for k in E_nn:\n",
    "        E_nn[k].extend(E_nn2[k])\n",
    "    grad = np.sum(delta_nn[-1])\n",
    "    err = np.sum([e[-1] for e in E_nn.values()])\n",
    "    \n",
    "    if name == \"grad:min\":\n",
    "        nn_metric[name] = (grad, params, (W, B, delta_nn, E_nn))\n",
    "    elif name == \"grad:max\":\n",
    "        nn_metric[name] = (grad, params, (W, B, delta_nn, E_nn))\n",
    "    elif name == \"err:min\":\n",
    "        nn_metric[name] = (err, params, (W, B, delta_nn, E_nn))\n",
    "    elif name == \"err:max\":\n",
    "        nn_metric[name] = (err, params, (W, B, delta_nn, E_nn))\n",
    "    \n"
   ]
  },
  {
   "cell_type": "code",
   "execution_count": null,
   "metadata": {},
   "outputs": [],
   "source": [
    "for name, (value, (neurons, layers, eta), (W, B, delta_nn, E_nn)) in nn_metric.items():\n",
    "    fig, ax = plt.subplots(1, 2, figsize=fig_size(1, 2))\n",
    "    fig.suptitle(f\"{nn_title[name]}: {params[0], params[1]+1, params[2]}\")\n",
    "    ax[0].set_title(\"Gradients per epoch\")\n",
    "    ax[0].plot(range(skip, epochs), delta_nn[skip:],\n",
    "            label=[f\"{l}: {d:.2e}\" for l, d in enumerate(delta_nn[-1])])\n",
    "    ax[0].plot([], [], label = f\"Total: {np.sum(delta_nn[-1]):.2e}\")\n",
    "    legend = ax[0].legend(title=\"Layer\", loc=\"upper right\")\n",
    "    legend.legendHandles[-1].set_visible(False)\n",
    "    cluster.axis_labels(ax[0], \"Epoch\",\n",
    "                        \"Average Length of Gradients $\\\\overline{\\\\Vert\\\\delta_l\\\\Vert_2}$\")\n",
    "\n",
    "    ax[1].set_title(\"Error per epoch\")\n",
    "    for p_name in E_nn.keys():\n",
    "        ax[1].plot(range(skip, epochs), E_nn[p_name][skip:],\n",
    "                label=f\"{p_name}: {E_nn[p_name][-1]:.2e}\")\n",
    "    ax[1].plot([], [], label = f\"Total: {np.sum([e[-1] for e in E_nn.values()]):.2e}\")\n",
    "    legend = ax[1].legend(title=\"Partition\", loc=\"upper right\")\n",
    "    legend.legendHandles[-1].set_visible(False)\n",
    "    cluster.axis_labels(ax[1], \"Epoch\",\n",
    "                        \"Average Error $\\\\frac{\\\\overline{\\\\Vert Y_d - Y_k\\\\Vert_2}}{2}$\")\n",
    "    fig.savefig(f\"nn:{name}2.png\", bbox_inches='tight')\n",
    "\n",
    "    fig, ax = plt.subplots(1, 3, figsize=fig_size(1, 3), \n",
    "        subplot_kw={'projection': '3d'})\n",
    "    fig.suptitle(f\"{nn_title[name]} Output\")\n",
    "    for i, (p_name, XY) in enumerate(partition.items()):\n",
    "        U, E = nn.eval(XY[0], W, B, classify=classify, Yd=XY[1])\n",
    "        cluster.plot(ax[i], XY[0], U, XY[1], title=p_name, cluster_names=Y_revert)"
   ]
  },
  {
   "cell_type": "markdown",
   "metadata": {},
   "source": [
    "# Unsupervised Learning"
   ]
  },
  {
   "cell_type": "markdown",
   "metadata": {},
   "source": [
    "### Mountain Clustering"
   ]
  },
  {
   "cell_type": "code",
   "execution_count": null,
   "metadata": {},
   "outputs": [],
   "source": [
    "n = 10\n",
    "C = mountain.run(partition[\"Train\"][0], 1, 1, 0.1, n=n)\n"
   ]
  },
  {
   "cell_type": "code",
   "execution_count": null,
   "metadata": {},
   "outputs": [],
   "source": [
    "fig, ax = plt.subplots(1, 3, figsize=fig_size(\n",
    "    1, 3), subplot_kw={'projection': '3d'})\n",
    "for i, (name, XY) in enumerate(partition.items()):\n",
    "    U = k_means.eval(XY[0], C)\n",
    "    if U.shape[0] == XY[1].shape[0]:\n",
    "        U = cluster.match(U, XY[1])\n",
    "        Ud = XY[1]\n",
    "    else:\n",
    "        Ud = None\n",
    "    cluster.plot(ax[i], XY[0], U, Ud=Ud, C=C, title=f\"Mountain Clustering ({name})\",\n",
    "                 cluster_names=Y_revert, axes_names=X_name)\n",
    "fig.savefig(\"mountain:clusters.png\", bbox_inches='tight')\n"
   ]
  },
  {
   "cell_type": "markdown",
   "metadata": {},
   "source": [
    "### Substractive Clustering"
   ]
  },
  {
   "cell_type": "code",
   "execution_count": null,
   "metadata": {},
   "outputs": [],
   "source": [
    "C = mountain.run(partition[\"Train\"][0], 1.1, 1, 0.1, substractive=True)\n"
   ]
  },
  {
   "cell_type": "code",
   "execution_count": null,
   "metadata": {},
   "outputs": [],
   "source": [
    "fig, ax = plt.subplots(1, 3, figsize=fig_size(\n",
    "    1, 3), subplot_kw={'projection': '3d'})\n",
    "for i, (name, XY) in enumerate(partition.items()):\n",
    "    U = k_means.eval(XY[0], C)\n",
    "    if U.shape[0] == XY[1].shape[0]:\n",
    "        U = cluster.match(U, XY[1])\n",
    "        Ud = XY[1]\n",
    "    else:\n",
    "        Ud = None\n",
    "    cluster.plot(ax[i], XY[0], U, Ud=Ud, C=C, title=f\"Substractive Clustering ({name})\",\n",
    "                 cluster_names=Y_revert, axes_names=X_name)\n",
    "fig.savefig(\"substractive:clusters.png\", bbox_inches='tight')"
   ]
  },
  {
   "cell_type": "markdown",
   "metadata": {},
   "source": [
    "### K-Means"
   ]
  },
  {
   "cell_type": "code",
   "execution_count": null,
   "metadata": {},
   "outputs": [],
   "source": [
    "U, C = k_means.run(2, partition[\"Train\"][0], 0.002)\n"
   ]
  },
  {
   "cell_type": "code",
   "execution_count": null,
   "metadata": {},
   "outputs": [],
   "source": [
    "fig, ax = plt.subplots(1, 3, figsize=fig_size(\n",
    "    1, 3), subplot_kw={'projection': '3d'})\n",
    "for i, (name, XY) in enumerate(partition.items()):\n",
    "    U = k_means.eval(XY[0], C)\n",
    "    if U.shape[0] == XY[1].shape[0]:\n",
    "        U = cluster.match(U, XY[1])\n",
    "        Ud = XY[1]\n",
    "    else:\n",
    "        Ud = None\n",
    "    cluster.plot(ax[i], XY[0], U, Ud=Ud, C=C, title=f\"K-means ({name})\",\n",
    "                 cluster_names=Y_revert, axes_names=X_name)\n",
    "fig.savefig(\"kmeans:clusters.png\", bbox_inches='tight')\n"
   ]
  },
  {
   "cell_type": "markdown",
   "metadata": {},
   "source": [
    "### Fuzzy C-means"
   ]
  },
  {
   "cell_type": "code",
   "execution_count": null,
   "metadata": {},
   "outputs": [],
   "source": [
    "m = 5\n",
    "U, C = fuzzy_c_means.run(2, partition[\"Train\"][0], m, 0.002)\n"
   ]
  },
  {
   "cell_type": "code",
   "execution_count": null,
   "metadata": {},
   "outputs": [],
   "source": [
    "fig, ax = plt.subplots(1, 3, figsize=fig_size(\n",
    "    1, 3), subplot_kw={'projection': '3d'})\n",
    "for i, (name, XY) in enumerate(partition.items()):\n",
    "    U = fuzzy_c_means.eval(XY[0], C, m)\n",
    "    if U.shape[0] == XY[1].shape[0]:\n",
    "        U = cluster.match(U, XY[1])\n",
    "        Ud = XY[1]\n",
    "    else:\n",
    "        Ud = None\n",
    "    cluster.plot(ax[i], XY[0], U, Ud=Ud, C=C, title=f\"Fuzzy C-means ({name})\",\n",
    "                 cluster_names=Y_revert, axes_names=X_name)\n",
    "fig.savefig(\"fuzzycmeans:clusters.png\", bbox_inches='tight')\n"
   ]
  }
 ],
 "metadata": {
  "kernelspec": {
   "display_name": "Python 3.10.6 64-bit",
   "language": "python",
   "name": "python3"
  },
  "language_info": {
   "codemirror_mode": {
    "name": "ipython",
    "version": 3
   },
   "file_extension": ".py",
   "mimetype": "text/x-python",
   "name": "python",
   "nbconvert_exporter": "python",
   "pygments_lexer": "ipython3",
   "version": "3.10.6"
  },
  "orig_nbformat": 4,
  "vscode": {
   "interpreter": {
    "hash": "916dbcbb3f70747c44a77c7bcd40155683ae19c65e1c03b4aa3499c5328201f1"
   }
  }
 },
 "nbformat": 4,
 "nbformat_minor": 2
}
