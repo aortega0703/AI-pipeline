{
 "cells": [
  {
   "cell_type": "markdown",
   "metadata": {},
   "source": [
    "### Preliminars"
   ]
  },
  {
   "cell_type": "markdown",
   "metadata": {},
   "source": [
    "##### Imports"
   ]
  },
  {
   "cell_type": "code",
   "execution_count": null,
   "metadata": {},
   "outputs": [],
   "source": [
    "import preprocess\n",
    "import sample\n",
    "import cluster\n",
    "import nn\n",
    "import k_means\n",
    "import fuzzy_c_means\n",
    "import mountain\n",
    "import regression\n",
    "\n",
    "import numpy as np\n",
    "import matplotlib.pyplot as plt\n",
    "%matplotlib widget\n",
    "\n",
    "np.random.seed(420)\n",
    "x_size, y_size = 4, 4\n",
    "fig_size = lambda y, x: (x*x_size, y*y_size)"
   ]
  },
  {
   "cell_type": "markdown",
   "metadata": {},
   "source": [
    "##### Read Data"
   ]
  },
  {
   "cell_type": "code",
   "execution_count": null,
   "metadata": {},
   "outputs": [],
   "source": [
    "dataset = 0\n",
    "if dataset == 0:\n",
    "    file = \"../data/pulsar_data_train.csv\"\n",
    "    index_col, header = None, 0\n",
    "    classify = True\n",
    "elif dataset == 1:\n",
    "    file = \"../data/IRIS.csv\"\n",
    "    index_col, header = 0, 0\n",
    "    classify = True\n",
    "else:\n",
    "    file = '../data/examen.csv'\n",
    "    index_col, header = None, None\n",
    "    classify = False\n",
    "\n",
    "data, N_S, axes_names, indices = preprocess.get_data(file, header, index_col)\n",
    "X_S, Y_S, revert_X, revert_Y = preprocess.preprocess(data, classify)"
   ]
  },
  {
   "cell_type": "markdown",
   "metadata": {},
   "source": [
    "# Sample"
   ]
  },
  {
   "cell_type": "markdown",
   "metadata": {},
   "source": [
    "### PDF properties"
   ]
  },
  {
   "cell_type": "code",
   "execution_count": null,
   "metadata": {},
   "outputs": [],
   "source": [
    "pdf_info = sample.pdf_info(indices)"
   ]
  },
  {
   "cell_type": "code",
   "execution_count": null,
   "metadata": {},
   "outputs": [],
   "source": [
    "fig, ax = plt.subplots(1, 2, figsize=fig_size(1, 2))\n",
    "fig.suptitle(\"Sample PDF analytical comparison\")\n",
    "ax[0].set_title(\"Probability Density Function\")\n",
    "ax[1].set_title(\"Information content\")\n",
    "cluster.axis_labels(ax[0], \"Sample Index\", \"$f(x)$\")\n",
    "cluster.axis_labels(ax[1], \"Sample Index\", \"$I(x)$\")\n",
    "\n",
    "for name, info in pdf_info.items():\n",
    "    ax[0].plot(indices, info[\"F\"], label=f\"{name}: {info['H']:.2f}\")\n",
    "    ax[1].plot(indices, info[\"I\"])\n",
    "fig.legend(title=\"Entropy $H(X)$\", loc=\"lower center\")"
   ]
  },
  {
   "cell_type": "markdown",
   "metadata": {},
   "source": [
    "### Sampling data"
   ]
  },
  {
   "cell_type": "code",
   "execution_count": null,
   "metadata": {},
   "outputs": [],
   "source": [
    "pdf_sample = sample.sample(indices)\n",
    "partition_index = pdf_sample[\"Uniform\"]\n",
    "partition = {k: (X_S[:, v], Y_S[:, v]) for k, v in partition_index.items()}"
   ]
  },
  {
   "cell_type": "code",
   "execution_count": null,
   "metadata": {},
   "outputs": [],
   "source": [
    "fig, ax = plt.subplots(1, 3, figsize=fig_size(1, 3))\n",
    "fig.suptitle(\"Sample PDF numerical comparison\")\n",
    "for ax_pdf, (pdf_name, pdf_p) in zip(ax, pdf_sample.items()):\n",
    "    ax_pdf.set_title(f\"{pdf_name} Sampling\")\n",
    "    cluster.axis_labels(ax_pdf, 'Index', 'Sample Count')\n",
    "    ax_pdf.hist(pdf_p.values(), stacked=True, bins=10)\n",
    "    if cluster:\n",
    "        ax_pdf.legend([f\"{p_name}: \" + \" / \".join([f\"{np.sum(Y_S[c, p_i])/p_i.shape[0]:.0%}\"\n",
    "            for c in range(len(revert_Y))])\n",
    "            for p_name, p_i in pdf_p.items()], \n",
    "            title = \"Cluster distribution\", loc=\"lower left\")\n",
    "legend = fig.legend([f\"{k}: {len(v)} ({len(v)/N_S:.0%})\"\n",
    "    for k, v in partition_index.items()] + [f\"Total: {N_S}\"],\n",
    "    title=\"Data Distribution\", loc=\"upper right\")\n",
    "legend.legendHandles[-1].set_visible(False)"
   ]
  },
  {
   "cell_type": "markdown",
   "metadata": {},
   "source": [
    "### Data Distribution"
   ]
  },
  {
   "cell_type": "code",
   "execution_count": null,
   "metadata": {},
   "outputs": [],
   "source": [
    "fig, ax = plt.subplots(1, 3, figsize=fig_size(1, 3), subplot_kw={'projection':'3d'})\n",
    "fig.suptitle(\"Data Distribution\")\n",
    "for i, (p_name, XY) in enumerate(partition.items()):\n",
    "    cluster.plot(ax[i], XY[0], XY[1], title=p_name)"
   ]
  },
  {
   "cell_type": "markdown",
   "metadata": {},
   "source": [
    "# Supervised Learning"
   ]
  },
  {
   "cell_type": "markdown",
   "metadata": {},
   "source": [
    "### Linear Regression"
   ]
  },
  {
   "cell_type": "code",
   "execution_count": null,
   "metadata": {},
   "outputs": [],
   "source": [
    "B_linear, E_linear = regression.linear(*partition[\"Train\"])\n",
    "B_logistic, E_logistic = regression.logistic(*partition[\"Train\"])"
   ]
  },
  {
   "cell_type": "code",
   "execution_count": null,
   "metadata": {},
   "outputs": [],
   "source": [
    "for name, (X, Y) in partition.items():\n",
    "    fig, ax = plt.subplots(1, 2, figsize=fig_size(1,2), subplot_kw={'projection':'3d'})\n",
    "    U_linear = regression.linear_eval(X, B_linear)\n",
    "    cluster.plot(ax[0], X, U_linear, Y,\n",
    "                title=f\"Linear Regression Output ({name})\",\n",
    "                cluster_names=revert_Y, axes_names=axes_names)\n",
    "    U_logistic = regression.logistic_eval(X, B_logistic)\n",
    "    cluster.plot(ax[1], X, U_logistic, Y,\n",
    "             title=f\"Logistic Regression Output ({name})\",\n",
    "             cluster_names=revert_Y, axes_names=axes_names)"
   ]
  },
  {
   "cell_type": "markdown",
   "metadata": {},
   "source": [
    "### Neural Network"
   ]
  },
  {
   "cell_type": "code",
   "execution_count": null,
   "metadata": {},
   "outputs": [],
   "source": [
    "hidden = [2, 2]\n",
    "epochs = 2000\n",
    "\n",
    "W, B, delta_nn, Y_nn, E_nn = nn.train(partition, \"Train\", \n",
    "    hidden=hidden, epochs=epochs, classify=classify, logs=True)"
   ]
  },
  {
   "cell_type": "code",
   "execution_count": null,
   "metadata": {},
   "outputs": [],
   "source": [
    "fig, ax = plt.subplots(1, 2, figsize=fig_size(1,2),layout=\"constrained\")\n",
    "ax[0].set_title(\"Gradients per epoch\")\n",
    "ax[0].plot(range(10, epochs), delta_nn[10:], \n",
    "        label=[f\"{l}: {d:.2e}\" for l, d in enumerate(delta_nn[-1])])\n",
    "ax[0].legend(title=\"Layer\", loc=\"upper right\")\n",
    "cluster.axis_labels(ax[0], \"Epoch\",\n",
    "    \"Average Length of Gradients $\\\\overline{\\\\Vert\\\\delta_l\\\\Vert_2}$\")\n",
    "\n",
    "ax[1].set_title(\"Error per epoch\")\n",
    "for p_name in partition_index.keys():\n",
    "    ax[1].plot(range(10, epochs), E_nn[p_name][10:], \n",
    "        label=f\"{p_name}: {E_nn[p_name][-1]:.2e}\")\n",
    "ax[1].legend(title=\"Partition\", loc=\"upper right\")\n",
    "cluster.axis_labels(ax[1], \"Epoch\",\n",
    "    \"Average Error $\\\\frac{\\\\overline{\\\\Vert Y_d - Y_k\\\\Vert_2}}{2}$\")\n",
    "\n",
    "fig, ax = plt.subplots(1,3, figsize=fig_size(1,3), subplot_kw={'projection': '3d'})\n",
    "ax = ax.flatten()\n",
    "for n, (name, XY) in enumerate(partition.items()):\n",
    "    U, _ = nn.eval(XY[0], W, B, cluster=True)\n",
    "    cluster.plot(ax[n], XY[0], U, Ud=XY[1],\n",
    "                 title=f\"Neural Network output ({name})\",\n",
    "                 cluster_names=revert_Y, axes_names=axes_names)"
   ]
  },
  {
   "cell_type": "markdown",
   "metadata": {},
   "source": [
    "# Unsupervised Learning"
   ]
  },
  {
   "cell_type": "markdown",
   "metadata": {},
   "source": [
    "### Mountain Clustering"
   ]
  },
  {
   "cell_type": "code",
   "execution_count": null,
   "metadata": {},
   "outputs": [],
   "source": [
    "n = int(np.power(10, 5/X_S.shape[0]))\n",
    "C = mountain.run(partition[\"Train\"][0], 1, 1, 0.1, n=n)"
   ]
  },
  {
   "cell_type": "code",
   "execution_count": null,
   "metadata": {},
   "outputs": [],
   "source": [
    "fig, ax = plt.subplots(1, 3, figsize=fig_size(1, 3), subplot_kw={'projection': '3d'})\n",
    "for i, (name, XY) in enumerate(partition.items()):\n",
    "    U = k_means.eval(XY[0], C)\n",
    "    if U.shape[0] == XY[1].shape[0]:\n",
    "        U = cluster.match(U, XY[1])\n",
    "        Ud = XY[1]\n",
    "    else:\n",
    "        Ud = None\n",
    "    cluster.plot(ax[i], XY[0], U, Ud=Ud, C=C, title=f\"Mountain Clustering ({name})\",\n",
    "                 cluster_names=revert_Y, axes_names=axes_names)"
   ]
  },
  {
   "cell_type": "markdown",
   "metadata": {},
   "source": [
    "### Substractive Clustering"
   ]
  },
  {
   "cell_type": "code",
   "execution_count": null,
   "metadata": {},
   "outputs": [],
   "source": [
    "C = mountain.run(partition[\"Train\"][0], 1.1, 1, 0.1, substractive=True)"
   ]
  },
  {
   "cell_type": "code",
   "execution_count": null,
   "metadata": {},
   "outputs": [],
   "source": [
    "fig, ax = plt.subplots(1, 3, figsize=fig_size(1, 3), subplot_kw={'projection': '3d'})\n",
    "for i, (name, XY) in enumerate(partition.items()):\n",
    "    U = k_means.eval(XY[0], C)\n",
    "    if U.shape[0] == XY[1].shape[0]:\n",
    "        U = cluster.match(U, XY[1])\n",
    "        Ud = XY[1]\n",
    "    else:\n",
    "        Ud = None\n",
    "    cluster.plot(ax[i], XY[0], U, Ud=Ud, C=C, title=f\"Substractive Clustering ({name})\",\n",
    "                 cluster_names=revert_Y, axes_names=axes_names)"
   ]
  },
  {
   "cell_type": "markdown",
   "metadata": {},
   "source": [
    "### K-Means"
   ]
  },
  {
   "cell_type": "code",
   "execution_count": null,
   "metadata": {},
   "outputs": [],
   "source": [
    "U, C = k_means.run(2, partition[\"Train\"][0], 0.002)"
   ]
  },
  {
   "cell_type": "code",
   "execution_count": null,
   "metadata": {},
   "outputs": [],
   "source": [
    "fig, ax = plt.subplots(1, 3, figsize=fig_size(1, 3), subplot_kw={'projection': '3d'})\n",
    "for i, (name, XY) in enumerate(partition.items()):\n",
    "    U = k_means.eval(XY[0], C)\n",
    "    if U.shape[0] == XY[1].shape[0]:\n",
    "        U = cluster.match(U, XY[1])\n",
    "        Ud = XY[1]\n",
    "    else:\n",
    "        Ud = None\n",
    "    cluster.plot(ax[i], XY[0], U, Ud=Ud, C=C, title=f\"K-means ({name})\",\n",
    "        cluster_names=revert_Y, axes_names=axes_names)\n"
   ]
  },
  {
   "cell_type": "markdown",
   "metadata": {},
   "source": [
    "### Fuzzy C-means"
   ]
  },
  {
   "cell_type": "code",
   "execution_count": null,
   "metadata": {},
   "outputs": [],
   "source": [
    "m = 5\n",
    "U, C = fuzzy_c_means.run(2, partition[\"Train\"][0], m, 0.002)"
   ]
  },
  {
   "cell_type": "code",
   "execution_count": null,
   "metadata": {},
   "outputs": [],
   "source": [
    "fig, ax = plt.subplots(1, 3, figsize=fig_size(1, 3), subplot_kw={'projection': '3d'})\n",
    "for i, (name, XY) in enumerate(partition.items()):\n",
    "    U = fuzzy_c_means.eval(XY[0], C, m)\n",
    "    if U.shape[0] == XY[1].shape[0]:\n",
    "        U = cluster.match(U, XY[1])\n",
    "        Ud = XY[1]\n",
    "    else:\n",
    "        Ud = None\n",
    "    cluster.plot(ax[i], XY[0], U, Ud=Ud, C=C, title=f\"Fuzzy C-means ({name})\",\n",
    "        cluster_names=revert_Y, axes_names=axes_names)"
   ]
  }
 ],
 "metadata": {
  "kernelspec": {
   "display_name": "Python 3.10.6 64-bit",
   "language": "python",
   "name": "python3"
  },
  "language_info": {
   "codemirror_mode": {
    "name": "ipython",
    "version": 3
   },
   "file_extension": ".py",
   "mimetype": "text/x-python",
   "name": "python",
   "nbconvert_exporter": "python",
   "pygments_lexer": "ipython3",
   "version": "3.10.6"
  },
  "orig_nbformat": 4,
  "vscode": {
   "interpreter": {
    "hash": "916dbcbb3f70747c44a77c7bcd40155683ae19c65e1c03b4aa3499c5328201f1"
   }
  }
 },
 "nbformat": 4,
 "nbformat_minor": 2
}
